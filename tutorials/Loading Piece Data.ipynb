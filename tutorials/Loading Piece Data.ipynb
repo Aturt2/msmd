{
 "cells": [
  {
   "cell_type": "markdown",
   "metadata": {},
   "source": [
    "# Tutorial: Loading Data from MSMD\n",
    "In this tutorial we show how to load the data and annotations provided with\n",
    "the Multimodal Audio Sheet Music (MSMD) dataset.\n",
    "\n",
    "First we need to import a couple of python packages:"
   ]
  },
  {
   "cell_type": "code",
   "execution_count": 5,
   "metadata": {},
   "outputs": [
    {
     "ename": "ImportError",
     "evalue": "No module named 'muscima'",
     "output_type": "error",
     "traceback": [
      "\u001b[0;31m---------------------------------------------------------------------------\u001b[0m",
      "\u001b[0;31mImportError\u001b[0m                               Traceback (most recent call last)",
      "\u001b[0;32m<ipython-input-5-95fe5d5b28aa>\u001b[0m in \u001b[0;36m<module>\u001b[0;34m()\u001b[0m\n\u001b[1;32m      2\u001b[0m \u001b[0msys\u001b[0m\u001b[0;34m.\u001b[0m\u001b[0mexecutable\u001b[0m\u001b[0;34m\u001b[0m\u001b[0m\n\u001b[1;32m      3\u001b[0m \u001b[0msys\u001b[0m\u001b[0;34m.\u001b[0m\u001b[0mpath\u001b[0m\u001b[0;34m\u001b[0m\u001b[0m\n\u001b[0;32m----> 4\u001b[0;31m \u001b[0;32mimport\u001b[0m \u001b[0mmuscima\u001b[0m\u001b[0;34m\u001b[0m\u001b[0m\n\u001b[0m",
      "\u001b[0;31mImportError\u001b[0m: No module named 'muscima'"
     ]
    }
   ],
   "source": [
    "import sys\n",
    "sys.executable\n",
    "sys.path\n",
    "import muscima"
   ]
  },
  {
   "cell_type": "code",
   "execution_count": 2,
   "metadata": {},
   "outputs": [
    {
     "ename": "ImportError",
     "evalue": "No module named 'muscima'",
     "output_type": "error",
     "traceback": [
      "\u001b[0;31m---------------------------------------------------------------------------\u001b[0m",
      "\u001b[0;31mImportError\u001b[0m                               Traceback (most recent call last)",
      "\u001b[0;32m<ipython-input-2-498cf7b0c1f6>\u001b[0m in \u001b[0;36m<module>\u001b[0;34m()\u001b[0m\n\u001b[1;32m      5\u001b[0m \u001b[0;34m\u001b[0m\u001b[0m\n\u001b[1;32m      6\u001b[0m \u001b[0;32mfrom\u001b[0m \u001b[0msheet_manager\u001b[0m\u001b[0;34m.\u001b[0m\u001b[0mmidi_parser\u001b[0m \u001b[0;32mimport\u001b[0m \u001b[0mnotes_to_onsets\u001b[0m\u001b[0;34m,\u001b[0m \u001b[0mFPS\u001b[0m\u001b[0;34m\u001b[0m\u001b[0m\n\u001b[0;32m----> 7\u001b[0;31m \u001b[0;32mfrom\u001b[0m \u001b[0msheet_manager\u001b[0m\u001b[0;34m.\u001b[0m\u001b[0mdata_model\u001b[0m\u001b[0;34m.\u001b[0m\u001b[0mpiece\u001b[0m \u001b[0;32mimport\u001b[0m \u001b[0mPiece\u001b[0m\u001b[0;34m\u001b[0m\u001b[0m\n\u001b[0m\u001b[1;32m      8\u001b[0m \u001b[0;32mfrom\u001b[0m \u001b[0msheet_manager\u001b[0m\u001b[0;34m.\u001b[0m\u001b[0malignments\u001b[0m \u001b[0;32mimport\u001b[0m \u001b[0malign_score_to_performance\u001b[0m\u001b[0;34m\u001b[0m\u001b[0m\n",
      "\u001b[0;32m~/cp/src/sheet_manager/sheet_manager/data_model/piece.py\u001b[0m in \u001b[0;36m<module>\u001b[0;34m()\u001b[0m\n\u001b[1;32m     13\u001b[0m \u001b[0;34m\u001b[0m\u001b[0m\n\u001b[1;32m     14\u001b[0m \u001b[0;32mfrom\u001b[0m \u001b[0msheet_manager\u001b[0m\u001b[0;34m.\u001b[0m\u001b[0mdata_model\u001b[0m\u001b[0;34m.\u001b[0m\u001b[0mperformance\u001b[0m \u001b[0;32mimport\u001b[0m \u001b[0mPerformance\u001b[0m\u001b[0;34m\u001b[0m\u001b[0m\n\u001b[0;32m---> 15\u001b[0;31m \u001b[0;32mfrom\u001b[0m \u001b[0msheet_manager\u001b[0m\u001b[0;34m.\u001b[0m\u001b[0mdata_model\u001b[0m\u001b[0;34m.\u001b[0m\u001b[0mscore\u001b[0m \u001b[0;32mimport\u001b[0m \u001b[0mScore\u001b[0m\u001b[0;34m\u001b[0m\u001b[0m\n\u001b[0m\u001b[1;32m     16\u001b[0m \u001b[0;32mfrom\u001b[0m \u001b[0msheet_manager\u001b[0m\u001b[0;34m.\u001b[0m\u001b[0mdata_model\u001b[0m\u001b[0;34m.\u001b[0m\u001b[0mutil\u001b[0m \u001b[0;32mimport\u001b[0m \u001b[0mSheetManagerDBError\u001b[0m\u001b[0;34m,\u001b[0m \u001b[0mMSMDMetadataMixin\u001b[0m\u001b[0;34m\u001b[0m\u001b[0m\n\u001b[1;32m     17\u001b[0m \u001b[0;34m\u001b[0m\u001b[0m\n",
      "\u001b[0;32m~/cp/src/sheet_manager/sheet_manager/data_model/score.py\u001b[0m in \u001b[0;36m<module>\u001b[0;34m()\u001b[0m\n\u001b[1;32m     11\u001b[0m \u001b[0;32mimport\u001b[0m \u001b[0mcv2\u001b[0m\u001b[0;34m\u001b[0m\u001b[0m\n\u001b[1;32m     12\u001b[0m \u001b[0;32mimport\u001b[0m \u001b[0myaml\u001b[0m\u001b[0;34m\u001b[0m\u001b[0m\n\u001b[0;32m---> 13\u001b[0;31m \u001b[0;32mfrom\u001b[0m \u001b[0mmuscima\u001b[0m\u001b[0;34m.\u001b[0m\u001b[0mgraph\u001b[0m \u001b[0;32mimport\u001b[0m \u001b[0mNotationGraph\u001b[0m\u001b[0;34m\u001b[0m\u001b[0m\n\u001b[0m\u001b[1;32m     14\u001b[0m \u001b[0;32mfrom\u001b[0m \u001b[0mmuscima\u001b[0m\u001b[0;34m.\u001b[0m\u001b[0minference_engine_constants\u001b[0m \u001b[0;32mimport\u001b[0m \u001b[0mInferenceEngineConstants\u001b[0m\u001b[0;34m\u001b[0m\u001b[0m\n\u001b[1;32m     15\u001b[0m \u001b[0;32mfrom\u001b[0m \u001b[0mmuscima\u001b[0m\u001b[0;34m.\u001b[0m\u001b[0mio\u001b[0m \u001b[0;32mimport\u001b[0m \u001b[0mparse_cropobject_list\u001b[0m\u001b[0;34m\u001b[0m\u001b[0m\n",
      "\u001b[0;31mImportError\u001b[0m: No module named 'muscima'"
     ]
    }
   ],
   "source": [
    "from __future__ import print_function\n",
    "\n",
    "import numpy as np\n",
    "import matplotlib.pyplot as plt\n",
    "\n",
    "from sheet_manager.midi_parser import notes_to_onsets, FPS\n",
    "from sheet_manager.data_model.piece import Piece\n",
    "from sheet_manager.alignments import align_score_to_performance"
   ]
  },
  {
   "cell_type": "markdown",
   "metadata": {},
   "source": [
    "Here we set the root path of the data set and select the piece we would like to load in this tutorial."
   ]
  },
  {
   "cell_type": "code",
   "execution_count": null,
   "metadata": {},
   "outputs": [],
   "source": [
    "# path to MSMD data set\n",
    "DATA_ROOT_MSMD = '/media/matthias/Data/msmd_aug/'\n",
    "\n",
    "# select a piece you would like to view\n",
    "piece_name = 'BachJS__BWV849__bwv849b'"
   ]
  },
  {
   "cell_type": "markdown",
   "metadata": {},
   "source": [
    "## Loading the sheet image data\n",
    "In the next couple of cells we load the sheet images along with their annotations."
   ]
  },
  {
   "cell_type": "code",
   "execution_count": null,
   "metadata": {},
   "outputs": [],
   "source": [
    "# piece loading\n",
    "piece = Piece(root=DATA_ROOT_MSMD, name=piece_name)\n",
    "score = piece.load_score(piece.available_scores[0])"
   ]
  },
  {
   "cell_type": "code",
   "execution_count": null,
   "metadata": {},
   "outputs": [],
   "source": [
    "# get mungos\n",
    "# (this is our annotation format containing for example system and notehead annotations)\n",
    "mungos = score.load_mungos()\n",
    "mdict = {m.objid: m for m in mungos}\n",
    "mungos_per_page = score.load_mungos(by_page=True)"
   ]
  },
  {
   "cell_type": "code",
   "execution_count": null,
   "metadata": {},
   "outputs": [],
   "source": [
    "# load images\n",
    "images = score.load_images()\n",
    "print(\"Number of pages\", len(images))"
   ]
  },
  {
   "cell_type": "markdown",
   "metadata": {},
   "source": [
    "Lets visualize the sheet images."
   ]
  },
  {
   "cell_type": "code",
   "execution_count": null,
   "metadata": {},
   "outputs": [],
   "source": [
    "plt.figure(\"Sheet Images\", figsize=(16, 8))\n",
    "for i in range(len(images)):\n",
    "    plt.subplot(1, len(images), i+1)\n",
    "    plt.imshow(images[i], cmap=\"gray\")\n",
    "    plt.title(\"Page %d\" % i)\n",
    "plt.show()"
   ]
  },
  {
   "cell_type": "markdown",
   "metadata": {},
   "source": [
    "Next we extract the staff system and note head annotations (only for the first page)."
   ]
  },
  {
   "cell_type": "code",
   "execution_count": null,
   "metadata": {},
   "outputs": [],
   "source": [
    "# get only systems\n",
    "system_mungos = [c for c in mungos_per_page[0] if c.clsname == 'staff']\n",
    "system_mungos = sorted(system_mungos, key=lambda m: m.top)\n",
    "\n",
    "# get only noteheads\n",
    "notehead_mungos = [c for c in mungos_per_page[0] if c.clsname == 'notehead-full']"
   ]
  },
  {
   "cell_type": "markdown",
   "metadata": {},
   "source": [
    "... and plot it along with the sheet image."
   ]
  },
  {
   "cell_type": "code",
   "execution_count": null,
   "metadata": {},
   "outputs": [],
   "source": [
    "plt.figure(\"Page with Systems\", figsize=(8, 10))\n",
    "plt.imshow(images[0], cmap=\"gray\")\n",
    "\n",
    "# plot systems to sheet\n",
    "for sys_mungo in system_mungos:\n",
    "    t, l, b, r = sys_mungo.bounding_box\n",
    "    plt.plot([l, r], [t, t], c='g', linewidth=3, alpha=0.5)\n",
    "    plt.plot([l, r], [b, b], c='g', linewidth=3, alpha=0.5)\n",
    "    plt.plot([l, l], [t, b], c='g', linewidth=3, alpha=0.5)\n",
    "    plt.plot([r, r], [t, b], c='g', linewidth=3, alpha=0.5)\n",
    "\n",
    "# plot noteheads to sheet\n",
    "for n in notehead_mungos:\n",
    "    plt.plot(n.middle[1], n.middle[0], \"bo\", alpha=0.5)\n",
    "plt.show()"
   ]
  },
  {
   "cell_type": "markdown",
   "metadata": {},
   "source": [
    "## Loading performance data\n",
    "In the next coupl'e of cells we load the performance (audio) part of the piece."
   ]
  },
  {
   "cell_type": "code",
   "execution_count": null,
   "metadata": {},
   "outputs": [],
   "source": [
    "# get the first one of the available performance identifiers\n",
    "performance_key = piece.available_performances[0]\n",
    "print(performance_key)"
   ]
  },
  {
   "cell_type": "code",
   "execution_count": null,
   "metadata": {},
   "outputs": [],
   "source": [
    "# load the performance\n",
    "performance = piece.load_performance(performance_key, require_audio=False)"
   ]
  },
  {
   "cell_type": "code",
   "execution_count": null,
   "metadata": {},
   "outputs": [],
   "source": [
    "# load spectrogram\n",
    "spectrogram = performance.load_spectrogram()\n",
    "\n",
    "# show the spectrogram\n",
    "plt.figure(\"Spectrogram\", figsize=(16, 3))\n",
    "plt.imshow(spectrogram, cmap=\"viridis\", aspect=\"auto\", origin=\"lower\")\n",
    "plt.title(\"Spectrogram\")\n",
    "plt.ylabel(\"%d Frequency Bins\" % spectrogram.shape[0])\n",
    "plt.xlabel(\"%d Spectrogram Frames\" % spectrogram.shape[1])\n",
    "plt.show()"
   ]
  },
  {
   "cell_type": "markdown",
   "metadata": {},
   "source": [
    "## Aligning the two modalities\n",
    "The last thing to do is to align the two modalities."
   ]
  },
  {
   "cell_type": "code",
   "execution_count": null,
   "metadata": {},
   "outputs": [],
   "source": [
    "# running the alignment procedure\n",
    "alignment = align_score_to_performance(score, performance)\n",
    "\n",
    "# note events\n",
    "note_events = performance.load_note_events()"
   ]
  },
  {
   "cell_type": "code",
   "execution_count": null,
   "metadata": {},
   "outputs": [],
   "source": [
    "# to make this easier for us we make it a dictionary\n",
    "# and accessible by object id\n",
    "mung_dict = {m.objid: m for m in mungos}"
   ]
  },
  {
   "cell_type": "code",
   "execution_count": null,
   "metadata": {},
   "outputs": [],
   "source": [
    "# get one entry in the alignment matrix\n",
    "# (this is by id)\n",
    "m_objid, e_idx = alignment[18]"
   ]
  },
  {
   "cell_type": "code",
   "execution_count": null,
   "metadata": {},
   "outputs": [],
   "source": [
    "# now we actually get the data\n",
    "note_object = mung_dict[m_objid]\n",
    "midi_event = note_events[e_idx]"
   ]
  },
  {
   "cell_type": "code",
   "execution_count": null,
   "metadata": {},
   "outputs": [],
   "source": [
    "# given the midi note event we compute the corresponding onset frame\n",
    "dt = 1.0 / FPS\n",
    "onset_frame = int(np.ceil(midi_event[0] / dt))"
   ]
  },
  {
   "cell_type": "markdown",
   "metadata": {},
   "source": [
    "## Visualizing the Final Result"
   ]
  },
  {
   "cell_type": "code",
   "execution_count": null,
   "metadata": {},
   "outputs": [],
   "source": [
    "# show the spectrogram\n",
    "plt.figure(\"Alignment\", figsize=(16, 8))\n",
    "\n",
    "plt.subplot(2, 1, 1)\n",
    "plt.imshow(images[0], cmap=\"gray\")\n",
    "plt.plot(note_object.middle[1], note_object.middle[0], 'mo', markersize=15, alpha=0.5)\n",
    "plt.ylim([note_object.middle[0] + 100, note_object.middle[0] - 100])\n",
    "plt.text(note_object.middle[1], note_object.middle[0] - 10, \"Target Note\",\n",
    "         bbox={'facecolor':'w', 'alpha':0.8, 'pad':3},\n",
    "         ha=\"center\", va=\"bottom\", color=\"m\", fontsize=20)\n",
    "\n",
    "plt.subplot(2, 1, 2)\n",
    "plt.imshow(spectrogram, cmap=\"viridis\", aspect=\"auto\", origin=\"lower\")\n",
    "plt.plot([onset_frame, onset_frame], [0, spectrogram.shape[0]], 'w-', linewidth=5, alpha=0.5)\n",
    "plt.xlim([onset_frame - 100, onset_frame + 100])\n",
    "plt.text(onset_frame, spectrogram.shape[0] // 2, \"Target Frame\",\n",
    "         bbox={'facecolor':'w', 'alpha':0.8, 'pad':3},\n",
    "         ha=\"center\", color=\"k\", fontsize=20)\n",
    "\n",
    "plt.show()"
   ]
  },
  {
   "cell_type": "code",
   "execution_count": null,
   "metadata": {},
   "outputs": [],
   "source": []
  }
 ],
 "metadata": {
  "kernelspec": {
   "display_name": "Python 3",
   "language": "python",
   "name": "python3"
  },
  "language_info": {
   "codemirror_mode": {
    "name": "ipython",
    "version": 3
   },
   "file_extension": ".py",
   "mimetype": "text/x-python",
   "name": "python",
   "nbconvert_exporter": "python",
   "pygments_lexer": "ipython3",
   "version": "3.5.2"
  }
 },
 "nbformat": 4,
 "nbformat_minor": 2
}
